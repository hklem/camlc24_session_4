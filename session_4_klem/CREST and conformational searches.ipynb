{
 "cells": [
  {
   "cell_type": "markdown",
   "id": "cfd66ef3-fbfc-471f-a0f0-317d0adcbe07",
   "metadata": {},
   "source": [
    "# CREST and conformational searches\n",
    "[CREST](https://crest-lab.github.io/crest-docs/) (originally abbreviated from Conformer-Rotamer Ensemble Sampling Tool) is a program for the automated exploration of the low-energy molecular chemical space. It functions as an OMP scheduler for calculations with efficient force-field and semiempirical quantum mechanical methods such as xTB, and provides a variety of capabilities for creation and analysis of structure ensembles.\n",
    "\n",
    "First, let's take a look at what version of CREST you are working with. Paying attention to program versions is critical for a few reasons:\n",
    "1. So you know what documentation to follow, because programs change! In fact, there are structured guidelines for [how Python program changes are reflected in version schemes](https://py-pkgs.org/07-releasing-versioning.html).\n",
    "2. If you are using multiple computing resources for the same project you want to make sure the version is the same, in case differences across versions can alter results (hint, use virtual environments to contain speficic versions!)\n",
    "3. Reproducibility! It is an absolute MUST to report what version of software you used in publications (even if the journal does not explicitly request it, this is a community standard). \n",
    "4. Can you think of any other reasons?"
   ]
  },
  {
   "cell_type": "code",
   "execution_count": null,
   "id": "2d7b9236-d170-4f26-902d-1c1dc2fcaeee",
   "metadata": {
    "scrolled": true,
    "tags": []
   },
   "outputs": [],
   "source": [
    "  ! crest --version"
   ]
  },
  {
   "cell_type": "markdown",
   "id": "853f6d2d-c145-48ab-9800-7cc9241c0da4",
   "metadata": {},
   "source": [
    "<div class=\"alert alert-block alert-warning\">\n",
    "<b>CREST check</b>\n",
    "    \n",
    "Is anyone unable to get CREST to run? \n",
    "\n",
    "Do we have others with working CREST who are willing to share their laptop screen? </div>"
   ]
  },
  {
   "cell_type": "code",
   "execution_count": null,
   "id": "8fb560ea-ce8b-43cb-a43b-2c8ecb4ca054",
   "metadata": {},
   "outputs": [],
   "source": [
    "! crest -h"
   ]
  },
  {
   "cell_type": "code",
   "execution_count": null,
   "id": "ff594bd7-d6c1-4a8b-9a4e-607e2e36e8cb",
   "metadata": {},
   "outputs": [],
   "source": [
    "%%bash\n",
    "\n",
    "cd cyclohexane\n",
    "crest cyclohexane.xyz >> cyclohexane.out \n",
    "cd ../"
   ]
  },
  {
   "cell_type": "code",
   "execution_count": null,
   "id": "296612c6-1a97-4799-aa62-e5a635f55c9d",
   "metadata": {},
   "outputs": [],
   "source": [
    "%%bash\n",
    "\n",
    "cd benzene_dimer_nci\n",
    "crest benzene_dimer.xyz >> benzene_dimer_nci.out \n",
    "cd ../"
   ]
  },
 ],
 "metadata": {
  "kernelspec": {
   "display_name": "Python 3 (ipykernel)",
   "language": "python",
   "name": "python3"
  },
  "language_info": {
   "codemirror_mode": {
    "name": "ipython",
    "version": 3
   },
   "file_extension": ".py",
   "mimetype": "text/x-python",
   "name": "python",
   "nbconvert_exporter": "python",
   "pygments_lexer": "ipython3",
   "version": "3.10.0"
  }
 },
 "nbformat": 4,
 "nbformat_minor": 5
}
